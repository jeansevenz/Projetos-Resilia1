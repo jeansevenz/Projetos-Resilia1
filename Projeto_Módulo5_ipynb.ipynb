{
  "cells": [
    {
      "cell_type": "markdown",
      "metadata": {
        "id": "view-in-github",
        "colab_type": "text"
      },
      "source": [
        "<a href=\"https://colab.research.google.com/github/jeansevenz/Projetos-Resilia1/blob/main/Projeto_M%C3%B3dulo5_ipynb.ipynb\" target=\"_parent\"><img src=\"https://colab.research.google.com/assets/colab-badge.svg\" alt=\"Open In Colab\"/></a>"
      ]
    },
    {
      "cell_type": "markdown",
      "metadata": {
        "id": "x6L-Uq18ygo8"
      },
      "source": [
        "# Projetodo Mó dulo V\n",
        "## Análise Exploratória das Cotas Parlamentares\n"
      ]
    },
    {
      "cell_type": "markdown",
      "metadata": {
        "id": "1soGhoEjzRTv"
      },
      "source": [
        "### IMPORTAÇÃO DE BIBLIOTECAS"
      ]
    },
    {
      "cell_type": "code",
      "execution_count": null,
      "metadata": {
        "colab": {
          "background_save": true
        },
        "id": "iU3vtLJpaEMQ"
      },
      "outputs": [],
      "source": [
        "import pandas as pd\n",
        "import matplotlib.pyplot as plt\n",
        "import numpy as np\n",
        "import plotly.express as px\n",
        "import seaborn as sns\n",
        "from datetime import datetime"
      ]
    },
    {
      "cell_type": "markdown",
      "metadata": {
        "id": "THv498RAzXL7"
      },
      "source": [
        "### IMPORTAÇÃO DE ARQUIVOS"
      ]
    },
    {
      "cell_type": "code",
      "execution_count": null,
      "metadata": {
        "colab": {
          "background_save": true
        },
        "id": "GfRBocr-aIwH"
      },
      "outputs": [],
      "source": [
        "from google.colab import drive\n",
        "drive.mount('/content/drive')\n"
      ]
    },
    {
      "cell_type": "code",
      "execution_count": null,
      "metadata": {
        "colab": {
          "background_save": true
        },
        "id": "l1XN9cOZfQ0T"
      },
      "outputs": [],
      "source": [
        "df_2019 = pd.read_csv('/content/drive/MyDrive/Ano-2019 (1).csv', sep = ';')\n",
        "df_2019\n",
        "df_2020 = pd.read_csv('/content/drive/My Drive/Ano-2020.csv', sep = ';')\n",
        "df_2020\n",
        "df_2021 = pd.read_csv('/content/drive/My Drive/Ano-2021.csv', sep = ';')\n",
        "df_2021"
      ]
    },
    {
      "cell_type": "markdown",
      "metadata": {
        "id": "S4vAjG4nzi7k"
      },
      "source": [
        "### TRATAMENTO E LIMPEZA DE DADOS"
      ]
    },
    {
      "cell_type": "code",
      "execution_count": null,
      "metadata": {
        "colab": {
          "background_save": true
        },
        "id": "Yl8_2gNFmq3Z"
      },
      "outputs": [],
      "source": [
        "df_unico = pd.concat([df_2019, df_2020, df_2021], ignore_index=True)\n",
        "df_unico.head()"
      ]
    },
    {
      "cell_type": "code",
      "execution_count": null,
      "metadata": {
        "colab": {
          "background_save": true
        },
        "id": "YhnyFpmspSk_"
      },
      "outputs": [],
      "source": [
        "df_unico.shape"
      ]
    },
    {
      "cell_type": "code",
      "execution_count": null,
      "metadata": {
        "colab": {
          "background_save": true
        },
        "id": "i0NKqTIiqsaV"
      },
      "outputs": [],
      "source": [
        "df_unico.head()"
      ]
    },
    {
      "cell_type": "markdown",
      "metadata": {
        "id": "fwVB28qSzswD"
      },
      "source": [
        "### QUESTÕES"
      ]
    },
    {
      "cell_type": "markdown",
      "metadata": {
        "id": "tPLl33DA0Biq"
      },
      "source": [
        "**1. Como se comportam os gastos com cotas parlamentares ao longo do tempo? Existe alguma tendência de aumento ou redução desse custo?**"
      ]
    },
    {
      "cell_type": "code",
      "source": [
        "select = df_unico.groupby(['numAno'])['vlrDocumento'].sum()\n",
        "round(select, 2).astype('str')"
      ],
      "metadata": {
        "id": "OzbMQw3W7BJb",
        "colab": {
          "base_uri": "https://localhost:8080/"
        },
        "outputId": "710a6d51-95ac-4e2b-e890-3f9201c73fd4"
      },
      "execution_count": 60,
      "outputs": [
        {
          "output_type": "execute_result",
          "data": {
            "text/plain": [
              "numAno\n",
              "2019    213594719.63\n",
              "2020     173029681.0\n",
              "2021    104666561.06\n",
              "Name: vlrDocumento, dtype: object"
            ]
          },
          "metadata": {},
          "execution_count": 60
        }
      ]
    },
    {
      "cell_type": "code",
      "source": [
        "plt.plot(select.index, select)"
      ],
      "metadata": {
        "colab": {
          "base_uri": "https://localhost:8080/",
          "height": 293
        },
        "id": "RwcSeeFNBYJD",
        "outputId": "7e61914c-cd3e-4987-fd07-4285ea676875"
      },
      "execution_count": 61,
      "outputs": [
        {
          "output_type": "execute_result",
          "data": {
            "text/plain": [
              "[<matplotlib.lines.Line2D at 0x7f13e9ec7e10>]"
            ]
          },
          "metadata": {},
          "execution_count": 61
        },
        {
          "output_type": "display_data",
          "data": {
            "text/plain": [
              "<Figure size 432x288 with 1 Axes>"
            ],
            "image/png": "[encoded data removed]"
          },
          "metadata": {
            "needs_background": "light"
          }
        }
      ]
    },
    {
      "cell_type": "markdown",
      "metadata": {
        "id": "6xXf3hu10gjW"
      },
      "source": [
        "**2. Qual a média de gastos por parlamentar?**"
      ]
    },
    {
      "cell_type": "code",
      "execution_count": null,
      "metadata": {
        "id": "PO0ebAUV4Gz6",
        "colab": {
          "base_uri": "https://localhost:8080/"
        },
        "outputId": "24a0da78-2106-42a1-edc7-a0e9ed8e3df2"
      },
      "outputs": [
        {
          "output_type": "execute_result",
          "data": {
            "text/plain": [
              "txNomeParlamentar\n",
              "ABEL MESQUITA JR.       3063.72\n",
              "ADAIL CARNEIRO          4224.91\n",
              "ADALBERTO CAVALCANTI    2338.89\n",
              "ADELMO CARNEIRO LEÃO    1289.62\n",
              "ADELSON BARRETO          871.04\n",
              "                         ...   \n",
              "Zé Silva                 678.70\n",
              "Zé Vitor                 847.64\n",
              "Átila Lins              2016.82\n",
              "Átila Lira              1605.24\n",
              "Áurea Carolina           706.96\n",
              "Name: vlrDocumento, Length: 846, dtype: float64"
            ]
          },
          "metadata": {},
          "execution_count": 34
        }
      ],
      "source": [
        "select = round(df_unico.groupby(['txNomeParlamentar'])['vlrDocumento'].mean(), 2)\n",
        "select"
      ]
    },
    {
      "cell_type": "code",
      "source": [
        "plt.hist(select)"
      ],
      "metadata": {
        "colab": {
          "base_uri": "https://localhost:8080/",
          "height": 334
        },
        "id": "uPBX4qC47j66",
        "outputId": "ef5eb6ae-4ac6-4a13-a89a-5932cee0415b"
      },
      "execution_count": null,
      "outputs": [
        {
          "output_type": "execute_result",
          "data": {
            "text/plain": [
              "(array([339., 396.,  71.,  22.,   6.,   4.,   5.,   2.,   0.,   1.]),\n",
              " array([ -558.35 ,   842.746,  2243.842,  3644.938,  5046.034,  6447.13 ,\n",
              "         7848.226,  9249.322, 10650.418, 12051.514, 13452.61 ]),\n",
              " <a list of 10 Patch objects>)"
            ]
          },
          "metadata": {},
          "execution_count": 42
        },
        {
          "output_type": "display_data",
          "data": {
            "text/plain": [
              "<Figure size 432x288 with 1 Axes>"
            ],
            "image/png": "[encoded data removed]"
          },
          "metadata": {
            "needs_background": "light"
          }
        }
      ]
    },
    {
      "cell_type": "markdown",
      "metadata": {
        "id": "d1RPE32b0jSc"
      },
      "source": [
        "**3. Quais foram os parlamentares que mais e que menos consumiram recursos?**"
      ]
    },
    {
      "cell_type": "code",
      "execution_count": 49,
      "metadata": {
        "id": "m4CRZKfw4LA6",
        "colab": {
          "base_uri": "https://localhost:8080/"
        },
        "outputId": "231a31d9-2f8f-4a5c-e21c-644bdb4079b3"
      },
      "outputs": [
        {
          "output_type": "stream",
          "name": "stdout",
          "text": [
            "MENOR -\n",
            " txNomeParlamentar\n",
            "LUCIANA SANTOS    0.49\n",
            "MANDETTA          0.60\n",
            "DaLua do Rota     1.08\n",
            "SARNEY FILHO      1.25\n",
            "ROCHA             2.53\n",
            "Name: vlrDocumento, dtype: float64\n",
            "MAIOR -\n",
            " txNomeParlamentar\n",
            "Jéssica Sales         1416133.42\n",
            "Wellington Roberto    1385090.81\n",
            "Perpétua Almeida      1376839.42\n",
            "Silas Câmara          1373755.01\n",
            "Jesus Sérgio          1360451.70\n",
            "Name: vlrDocumento, dtype: float64\n"
          ]
        }
      ],
      "source": [
        "df_unico2 = df_unico[df_unico['vlrDocumento'] >= 0]\n",
        "df_menos = df_unico2.groupby(['txNomeParlamentar'])['vlrDocumento'].sum().sort_values().head(5)\n",
        "print(f'MENOR -\\n {df_menos}')\n",
        "df_mais = df_unico.groupby(['txNomeParlamentar'])['vlrDocumento'].sum().sort_values(ascending = False).head(5)\n",
        "print(f'MAIOR -\\n {df_mais}')"
      ]
    },
    {
      "cell_type": "code",
      "source": [
        "plt.bar(df_menos.index, df_menos)\n",
        "plt.xticks(rotation = 90)"
      ],
      "metadata": {
        "colab": {
          "base_uri": "https://localhost:8080/",
          "height": 360
        },
        "id": "P5X3tsg__9yr",
        "outputId": "7469578a-49ad-44aa-edf9-c5934c1c7ef1"
      },
      "execution_count": 53,
      "outputs": [
        {
          "output_type": "execute_result",
          "data": {
            "text/plain": [
              "([0, 1, 2, 3, 4], <a list of 5 Text major ticklabel objects>)"
            ]
          },
          "metadata": {},
          "execution_count": 53
        },
        {
          "output_type": "display_data",
          "data": {
            "text/plain": [
              "<Figure size 432x288 with 1 Axes>"
            ],
            "image/png": "[encoded data removed]"
          },
          "metadata": {
            "needs_background": "light"
          }
        }
      ]
    },
    {
      "cell_type": "code",
      "source": [
        "plt.bar(df_mais.index, df_mais)\n",
        "plt.xticks(rotation = 90)"
      ],
      "metadata": {
        "colab": {
          "base_uri": "https://localhost:8080/",
          "height": 378
        },
        "id": "T_5CbNUMAKLb",
        "outputId": "315ae223-1d5b-4645-d330-fda60115d24a"
      },
      "execution_count": 52,
      "outputs": [
        {
          "output_type": "execute_result",
          "data": {
            "text/plain": [
              "([0, 1, 2, 3, 4], <a list of 5 Text major ticklabel objects>)"
            ]
          },
          "metadata": {},
          "execution_count": 52
        },
        {
          "output_type": "display_data",
          "data": {
            "text/plain": [
              "<Figure size 432x288 with 1 Axes>"
            ],
            "image/png": "[encoded data removed]"
          },
          "metadata": {
            "needs_background": "light"
          }
        }
      ]
    },
    {
      "cell_type": "markdown",
      "metadata": {
        "id": "Fgk3w3Ig0t5_"
      },
      "source": [
        "**4. Quais são as categorias de despesas mais onerosas dentre os recursos destinados às cotas parlamentares?**"
      ]
    },
    {
      "cell_type": "code",
      "execution_count": 55,
      "metadata": {
        "colab": {
          "base_uri": "https://localhost:8080/"
        },
        "id": "VAjz15TY0xF4",
        "outputId": "9126f221-6d7d-4567-9b91-89d9b92bc3af"
      },
      "outputs": [
        {
          "output_type": "execute_result",
          "data": {
            "text/plain": [
              "txtDescricao\n",
              "PARTICIPAÇÃO EM CURSO, PALESTRA OU EVENTO SIMILAR            1.539535e+05\n",
              "PASSAGENS TERRESTRES, MARÍTIMAS OU FLUVIAIS                  1.940142e+05\n",
              "LOCAÇÃO OU FRETAMENTO DE EMBARCAÇÕES                         4.450000e+05\n",
              "ASSINATURA DE PUBLICAÇÕES                                    5.832491e+05\n",
              "SERVIÇO DE TÁXI, PEDÁGIO E ESTACIONAMENTO                    1.836470e+06\n",
              "FORNECIMENTO DE ALIMENTAÇÃO DO PARLAMENTAR                   2.023309e+06\n",
              "SERVIÇO DE SEGURANÇA PRESTADO POR EMPRESA ESPECIALIZADA.     2.617691e+06\n",
              "LOCAÇÃO OU FRETAMENTO DE AERONAVES                           3.542367e+06\n",
              "HOSPEDAGEM ,EXCETO DO PARLAMENTAR NO DISTRITO FEDERAL.       3.610273e+06\n",
              "SERVIÇOS POSTAIS                                             3.998291e+06\n",
              "PASSAGEM AÉREA - REEMBOLSO                                   5.917361e+06\n",
              "TELEFONIA                                                    1.237999e+07\n",
              "PASSAGEM AÉREA - SIGEPA                                      2.060582e+07\n",
              "COMBUSTÍVEIS E LUBRIFICANTES.                                3.643998e+07\n",
              "CONSULTORIAS, PESQUISAS E TRABALHOS TÉCNICOS.                5.627142e+07\n",
              "MANUTENÇÃO DE ESCRITÓRIO DE APOIO À ATIVIDADE PARLAMENTAR    6.254503e+07\n",
              "LOCAÇÃO OU FRETAMENTO DE VEÍCULOS AUTOMOTORES                6.781413e+07\n",
              "PASSAGEM AÉREA - RPA                                         7.241028e+07\n",
              "DIVULGAÇÃO DA ATIVIDADE PARLAMENTAR.                         1.379023e+08\n",
              "Name: vlrDocumento, dtype: float64"
            ]
          },
          "metadata": {},
          "execution_count": 55
        }
      ],
      "source": [
        "df_mais_onerosa = df_unico.groupby(['txtDescricao'])['vlrDocumento'].sum().sort_values(ascending = True)\n",
        "df_mais_onerosa"
      ]
    },
    {
      "cell_type": "code",
      "source": [
        "plt.barh(df_mais_onerosa.index, df_mais_onerosa)\n",
        "plt.xlabel('Valor R$')\n",
        "plt.ylabel('Categorias')\n",
        "plt.title('GASTOS')\n",
        "plt.show()"
      ],
      "metadata": {
        "colab": {
          "base_uri": "https://localhost:8080/",
          "height": 295
        },
        "id": "qMIx8QSRAduO",
        "outputId": "deb37d78-4334-4e99-cc0a-d0db3b190095"
      },
      "execution_count": 56,
      "outputs": [
        {
          "output_type": "display_data",
          "data": {
            "text/plain": [
              "<Figure size 432x288 with 1 Axes>"
            ],
            "image/png": "[encoded data removed]"
          },
          "metadata": {
            "needs_background": "light"
          }
        }
      ]
    },
    {
      "cell_type": "code",
      "source": [
        ""
      ],
      "metadata": {
        "id": "rPvJKaYWAkz6"
      },
      "execution_count": null,
      "outputs": []
    }
  ],
  "metadata": {
    "colab": {
      "name": "Projeto_Módulo5 ipynb",
      "provenance": [],
      "mount_file_id": "1IYhW2YYvIsUQj3YDaAA5S8GxEjIZdgNs",
      "authorship_tag": "ABX9TyPSJDGBRSHN+OZfLD0wHpLX",
      "include_colab_link": true
    },
    "kernelspec": {
      "display_name": "Python 3",
      "name": "python3"
    },
    "language_info": {
      "name": "python"
    }
  },
  "nbformat": 4,
  "nbformat_minor": 0
}